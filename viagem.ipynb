{
 "cells": [
  {
   "cell_type": "markdown",
   "id": "df5297db-fe52-411a-bc7d-8c3affe8bc58",
   "metadata": {},
   "source": [
    "# Experimento: Classificador para viagens"
   ]
  },
  {
   "cell_type": "markdown",
   "id": "29f4c261-378a-481a-82f4-ba7bc8b19ec5",
   "metadata": {},
   "source": [
    "## Acesso e análise dos dados"
   ]
  },
  {
   "cell_type": "markdown",
   "id": "dd3182f1-c0bf-4db0-8d41-bfe2358a847e",
   "metadata": {},
   "source": [
    "Vamos utilizar a biblioteca https://pandas.pydata.org/ para manipulação dos dados."
   ]
  },
  {
   "cell_type": "code",
   "execution_count": 2,
   "id": "1aea9eeb-afa6-46f8-a529-2ee80da64a1c",
   "metadata": {},
   "outputs": [],
   "source": [
    "import pandas as pd"
   ]
  },
  {
   "cell_type": "markdown",
   "id": "b1c2b681-c8cb-4c2d-9235-3cda45229b75",
   "metadata": {},
   "source": [
    "A função __[pd.read_csv()](https://pandas.pydata.org/docs/reference/api/pandas.read_csv.html)__ Retorna um Dataframe para manipulação dos dados."
   ]
  },
  {
   "cell_type": "code",
   "execution_count": 3,
   "id": "4d27a014-812c-4583-8d55-1483434a6b40",
   "metadata": {},
   "outputs": [
    {
     "data": {
      "text/html": [
       "<div>\n",
       "<style scoped>\n",
       "    .dataframe tbody tr th:only-of-type {\n",
       "        vertical-align: middle;\n",
       "    }\n",
       "\n",
       "    .dataframe tbody tr th {\n",
       "        vertical-align: top;\n",
       "    }\n",
       "\n",
       "    .dataframe thead th {\n",
       "        text-align: right;\n",
       "    }\n",
       "</style>\n",
       "<table border=\"1\" class=\"dataframe\">\n",
       "  <thead>\n",
       "    <tr style=\"text-align: right;\">\n",
       "      <th></th>\n",
       "      <th>aparencia</th>\n",
       "      <th>temperatura</th>\n",
       "      <th>umidade</th>\n",
       "      <th>ventando</th>\n",
       "      <th>viajar</th>\n",
       "    </tr>\n",
       "  </thead>\n",
       "  <tbody>\n",
       "    <tr>\n",
       "      <th>0</th>\n",
       "      <td>sol</td>\n",
       "      <td>25</td>\n",
       "      <td>72</td>\n",
       "      <td>sim</td>\n",
       "      <td>va</td>\n",
       "    </tr>\n",
       "    <tr>\n",
       "      <th>1</th>\n",
       "      <td>sol</td>\n",
       "      <td>28</td>\n",
       "      <td>91</td>\n",
       "      <td>sim</td>\n",
       "      <td>Nao-va</td>\n",
       "    </tr>\n",
       "    <tr>\n",
       "      <th>2</th>\n",
       "      <td>sol</td>\n",
       "      <td>22</td>\n",
       "      <td>70</td>\n",
       "      <td>nao</td>\n",
       "      <td>va</td>\n",
       "    </tr>\n",
       "    <tr>\n",
       "      <th>3</th>\n",
       "      <td>sol</td>\n",
       "      <td>23</td>\n",
       "      <td>95</td>\n",
       "      <td>nao</td>\n",
       "      <td>Nao-va</td>\n",
       "    </tr>\n",
       "    <tr>\n",
       "      <th>4</th>\n",
       "      <td>sol</td>\n",
       "      <td>30</td>\n",
       "      <td>85</td>\n",
       "      <td>nao</td>\n",
       "      <td>Nao-va</td>\n",
       "    </tr>\n",
       "    <tr>\n",
       "      <th>5</th>\n",
       "      <td>nublado</td>\n",
       "      <td>23</td>\n",
       "      <td>90</td>\n",
       "      <td>sim</td>\n",
       "      <td>va</td>\n",
       "    </tr>\n",
       "    <tr>\n",
       "      <th>6</th>\n",
       "      <td>nublado</td>\n",
       "      <td>29</td>\n",
       "      <td>78</td>\n",
       "      <td>nao</td>\n",
       "      <td>va</td>\n",
       "    </tr>\n",
       "    <tr>\n",
       "      <th>7</th>\n",
       "      <td>nublado</td>\n",
       "      <td>19</td>\n",
       "      <td>65</td>\n",
       "      <td>sim</td>\n",
       "      <td>Nao-va</td>\n",
       "    </tr>\n",
       "    <tr>\n",
       "      <th>8</th>\n",
       "      <td>nublado</td>\n",
       "      <td>26</td>\n",
       "      <td>75</td>\n",
       "      <td>nao</td>\n",
       "      <td>va</td>\n",
       "    </tr>\n",
       "    <tr>\n",
       "      <th>9</th>\n",
       "      <td>nublado</td>\n",
       "      <td>20</td>\n",
       "      <td>87</td>\n",
       "      <td>sim</td>\n",
       "      <td>va</td>\n",
       "    </tr>\n",
       "    <tr>\n",
       "      <th>10</th>\n",
       "      <td>chuva</td>\n",
       "      <td>22</td>\n",
       "      <td>95</td>\n",
       "      <td>nao</td>\n",
       "      <td>va</td>\n",
       "    </tr>\n",
       "    <tr>\n",
       "      <th>11</th>\n",
       "      <td>chuva</td>\n",
       "      <td>19</td>\n",
       "      <td>70</td>\n",
       "      <td>sim</td>\n",
       "      <td>Nao-va</td>\n",
       "    </tr>\n",
       "    <tr>\n",
       "      <th>12</th>\n",
       "      <td>chuva</td>\n",
       "      <td>23</td>\n",
       "      <td>80</td>\n",
       "      <td>sim</td>\n",
       "      <td>Nao-va</td>\n",
       "    </tr>\n",
       "    <tr>\n",
       "      <th>13</th>\n",
       "      <td>chuva</td>\n",
       "      <td>25</td>\n",
       "      <td>81</td>\n",
       "      <td>nao</td>\n",
       "      <td>va</td>\n",
       "    </tr>\n",
       "    <tr>\n",
       "      <th>14</th>\n",
       "      <td>chuva</td>\n",
       "      <td>21</td>\n",
       "      <td>80</td>\n",
       "      <td>nao</td>\n",
       "      <td>va</td>\n",
       "    </tr>\n",
       "  </tbody>\n",
       "</table>\n",
       "</div>"
      ],
      "text/plain": [
       "   aparencia  temperatura  umidade ventando  viajar\n",
       "0        sol           25       72      sim      va\n",
       "1        sol           28       91      sim  Nao-va\n",
       "2        sol           22       70      nao      va\n",
       "3        sol           23       95      nao  Nao-va\n",
       "4        sol           30       85      nao  Nao-va\n",
       "5    nublado           23       90      sim      va\n",
       "6    nublado           29       78      nao      va\n",
       "7    nublado           19       65      sim  Nao-va\n",
       "8    nublado           26       75      nao      va\n",
       "9    nublado           20       87      sim      va\n",
       "10     chuva           22       95      nao      va\n",
       "11     chuva           19       70      sim  Nao-va\n",
       "12     chuva           23       80      sim  Nao-va\n",
       "13     chuva           25       81      nao      va\n",
       "14     chuva           21       80      nao      va"
      ]
     },
     "execution_count": 3,
     "metadata": {},
     "output_type": "execute_result"
    }
   ],
   "source": [
    "dataset = pd.read_csv('https://github.com/rodrigogoulart/IAC/raw/refs/heads/main/viagem.csv'); \n",
    "dataset"
   ]
  },
  {
   "cell_type": "markdown",
   "id": "9e56b455-0f93-4ef2-ac92-83ea1f2a61fb",
   "metadata": {},
   "source": [
    "<br>\n",
    "Veja como os dados carregados foram interpretados ..."
   ]
  },
  {
   "cell_type": "code",
   "execution_count": 4,
   "id": "38be490f-8645-47ce-858b-59656674d70e",
   "metadata": {},
   "outputs": [
    {
     "data": {
      "text/plain": [
       "aparencia      object\n",
       "temperatura     int64\n",
       "umidade         int64\n",
       "ventando       object\n",
       "viajar         object\n",
       "dtype: object"
      ]
     },
     "execution_count": 4,
     "metadata": {},
     "output_type": "execute_result"
    }
   ],
   "source": [
    "dataset.dtypes"
   ]
  },
  {
   "cell_type": "markdown",
   "id": "83c89ddd-6ca2-430e-9089-e85cf5559358",
   "metadata": {},
   "source": [
    "<br>\n",
    "Uma primeira análise dos dados númericos, como contagem, desvio padrão, entre outros. Apenas os atributos numéricos fazem parte dessa descrição. Lembre que a notação é Americana, portanto o ponto representa vírgula."
   ]
  },
  {
   "cell_type": "code",
   "execution_count": 5,
   "id": "87d23b20-3096-4fe0-a7fb-934c80adf394",
   "metadata": {},
   "outputs": [
    {
     "data": {
      "text/html": [
       "<div>\n",
       "<style scoped>\n",
       "    .dataframe tbody tr th:only-of-type {\n",
       "        vertical-align: middle;\n",
       "    }\n",
       "\n",
       "    .dataframe tbody tr th {\n",
       "        vertical-align: top;\n",
       "    }\n",
       "\n",
       "    .dataframe thead th {\n",
       "        text-align: right;\n",
       "    }\n",
       "</style>\n",
       "<table border=\"1\" class=\"dataframe\">\n",
       "  <thead>\n",
       "    <tr style=\"text-align: right;\">\n",
       "      <th></th>\n",
       "      <th>temperatura</th>\n",
       "      <th>umidade</th>\n",
       "    </tr>\n",
       "  </thead>\n",
       "  <tbody>\n",
       "    <tr>\n",
       "      <th>count</th>\n",
       "      <td>15.000000</td>\n",
       "      <td>15.000000</td>\n",
       "    </tr>\n",
       "    <tr>\n",
       "      <th>mean</th>\n",
       "      <td>23.666667</td>\n",
       "      <td>80.933333</td>\n",
       "    </tr>\n",
       "    <tr>\n",
       "      <th>std</th>\n",
       "      <td>3.457222</td>\n",
       "      <td>9.452639</td>\n",
       "    </tr>\n",
       "    <tr>\n",
       "      <th>min</th>\n",
       "      <td>19.000000</td>\n",
       "      <td>65.000000</td>\n",
       "    </tr>\n",
       "    <tr>\n",
       "      <th>25%</th>\n",
       "      <td>21.500000</td>\n",
       "      <td>73.500000</td>\n",
       "    </tr>\n",
       "    <tr>\n",
       "      <th>50%</th>\n",
       "      <td>23.000000</td>\n",
       "      <td>80.000000</td>\n",
       "    </tr>\n",
       "    <tr>\n",
       "      <th>75%</th>\n",
       "      <td>25.500000</td>\n",
       "      <td>88.500000</td>\n",
       "    </tr>\n",
       "    <tr>\n",
       "      <th>max</th>\n",
       "      <td>30.000000</td>\n",
       "      <td>95.000000</td>\n",
       "    </tr>\n",
       "  </tbody>\n",
       "</table>\n",
       "</div>"
      ],
      "text/plain": [
       "       temperatura    umidade\n",
       "count    15.000000  15.000000\n",
       "mean     23.666667  80.933333\n",
       "std       3.457222   9.452639\n",
       "min      19.000000  65.000000\n",
       "25%      21.500000  73.500000\n",
       "50%      23.000000  80.000000\n",
       "75%      25.500000  88.500000\n",
       "max      30.000000  95.000000"
      ]
     },
     "execution_count": 5,
     "metadata": {},
     "output_type": "execute_result"
    }
   ],
   "source": [
    "dataset.describe()"
   ]
  },
  {
   "cell_type": "markdown",
   "id": "17e38ad5-100c-40c6-8a05-f7cf61cfa665",
   "metadata": {},
   "source": [
    "<br>\n",
    "Se for necessário, é possível analisar apenas um dos atributos."
   ]
  },
  {
   "cell_type": "code",
   "execution_count": 6,
   "id": "f5096039-c4b5-4fcd-a2d0-a3370aeb16f1",
   "metadata": {},
   "outputs": [
    {
     "data": {
      "text/plain": [
       "np.float64(23.666666666666668)"
      ]
     },
     "execution_count": 6,
     "metadata": {},
     "output_type": "execute_result"
    }
   ],
   "source": [
    "dataset['temperatura'].mean()"
   ]
  },
  {
   "cell_type": "markdown",
   "id": "d2e31778-5091-4f8a-ad55-7c4428976741",
   "metadata": {},
   "source": [
    "<br>\n",
    "Boxplot gerado com base nos dados numéricos do dataset: temperatura e humidade.<br>As colunas dividem os valores em Quartis (P25 = 25%, P50 = 50%, P75 = 75%)"
   ]
  },
  {
   "cell_type": "code",
   "execution_count": 7,
   "id": "b19b5e49-3131-4c2a-a7fd-9a1cbe6284e5",
   "metadata": {},
   "outputs": [
    {
     "data": {
      "image/png": "[encoded data removed]",
      "text/plain": [
       "<Figure size 640x480 with 1 Axes>"
      ]
     },
     "metadata": {},
     "output_type": "display_data"
    }
   ],
   "source": [
    "import matplotlib.pyplot as plt\n",
    "dataset.boxplot()\n",
    "plt.show()"
   ]
  },
  {
   "cell_type": "markdown",
   "id": "6b14f2e2-f2e1-491f-8e8f-9dc57247d197",
   "metadata": {},
   "source": [
    "## Pré-processamento"
   ]
  },
  {
   "cell_type": "markdown",
   "id": "828d9fee-565b-4a88-8de2-6c35d219e6ed",
   "metadata": {},
   "source": [
    "### Enconding\n",
    "Alguns classificadores não aceitam features com valores nominais, então é necessário fazer o enconding em valores binários.\n",
    "É o caso do classificador que será empregado mais adiante.<br>\n",
    "__[pd.get_dummies](https://pandas.pydata.org/docs/reference/api/pandas.get_dummies.html)__ converte variáveis categóricas em variáveis binárias. O atributo ***drop_first=True*** produz apenas uma serie / coluna para atributos que possuem apenas dois valores."
   ]
  },
  {
   "cell_type": "code",
   "execution_count": 8,
   "id": "a1c08afe-08a4-497b-a53e-bb3a18643db7",
   "metadata": {},
   "outputs": [
    {
     "data": {
      "text/html": [
       "<div>\n",
       "<style scoped>\n",
       "    .dataframe tbody tr th:only-of-type {\n",
       "        vertical-align: middle;\n",
       "    }\n",
       "\n",
       "    .dataframe tbody tr th {\n",
       "        vertical-align: top;\n",
       "    }\n",
       "\n",
       "    .dataframe thead th {\n",
       "        text-align: right;\n",
       "    }\n",
       "</style>\n",
       "<table border=\"1\" class=\"dataframe\">\n",
       "  <thead>\n",
       "    <tr style=\"text-align: right;\">\n",
       "      <th></th>\n",
       "      <th>temperatura</th>\n",
       "      <th>umidade</th>\n",
       "      <th>aparencia_nublado</th>\n",
       "      <th>aparencia_sol</th>\n",
       "      <th>ventando_sim</th>\n",
       "      <th>viajar_va</th>\n",
       "    </tr>\n",
       "  </thead>\n",
       "  <tbody>\n",
       "    <tr>\n",
       "      <th>0</th>\n",
       "      <td>25</td>\n",
       "      <td>72</td>\n",
       "      <td>False</td>\n",
       "      <td>True</td>\n",
       "      <td>True</td>\n",
       "      <td>True</td>\n",
       "    </tr>\n",
       "    <tr>\n",
       "      <th>1</th>\n",
       "      <td>28</td>\n",
       "      <td>91</td>\n",
       "      <td>False</td>\n",
       "      <td>True</td>\n",
       "      <td>True</td>\n",
       "      <td>False</td>\n",
       "    </tr>\n",
       "    <tr>\n",
       "      <th>2</th>\n",
       "      <td>22</td>\n",
       "      <td>70</td>\n",
       "      <td>False</td>\n",
       "      <td>True</td>\n",
       "      <td>False</td>\n",
       "      <td>True</td>\n",
       "    </tr>\n",
       "    <tr>\n",
       "      <th>3</th>\n",
       "      <td>23</td>\n",
       "      <td>95</td>\n",
       "      <td>False</td>\n",
       "      <td>True</td>\n",
       "      <td>False</td>\n",
       "      <td>False</td>\n",
       "    </tr>\n",
       "    <tr>\n",
       "      <th>4</th>\n",
       "      <td>30</td>\n",
       "      <td>85</td>\n",
       "      <td>False</td>\n",
       "      <td>True</td>\n",
       "      <td>False</td>\n",
       "      <td>False</td>\n",
       "    </tr>\n",
       "    <tr>\n",
       "      <th>5</th>\n",
       "      <td>23</td>\n",
       "      <td>90</td>\n",
       "      <td>True</td>\n",
       "      <td>False</td>\n",
       "      <td>True</td>\n",
       "      <td>True</td>\n",
       "    </tr>\n",
       "    <tr>\n",
       "      <th>6</th>\n",
       "      <td>29</td>\n",
       "      <td>78</td>\n",
       "      <td>True</td>\n",
       "      <td>False</td>\n",
       "      <td>False</td>\n",
       "      <td>True</td>\n",
       "    </tr>\n",
       "    <tr>\n",
       "      <th>7</th>\n",
       "      <td>19</td>\n",
       "      <td>65</td>\n",
       "      <td>True</td>\n",
       "      <td>False</td>\n",
       "      <td>True</td>\n",
       "      <td>False</td>\n",
       "    </tr>\n",
       "    <tr>\n",
       "      <th>8</th>\n",
       "      <td>26</td>\n",
       "      <td>75</td>\n",
       "      <td>True</td>\n",
       "      <td>False</td>\n",
       "      <td>False</td>\n",
       "      <td>True</td>\n",
       "    </tr>\n",
       "    <tr>\n",
       "      <th>9</th>\n",
       "      <td>20</td>\n",
       "      <td>87</td>\n",
       "      <td>True</td>\n",
       "      <td>False</td>\n",
       "      <td>True</td>\n",
       "      <td>True</td>\n",
       "    </tr>\n",
       "    <tr>\n",
       "      <th>10</th>\n",
       "      <td>22</td>\n",
       "      <td>95</td>\n",
       "      <td>False</td>\n",
       "      <td>False</td>\n",
       "      <td>False</td>\n",
       "      <td>True</td>\n",
       "    </tr>\n",
       "    <tr>\n",
       "      <th>11</th>\n",
       "      <td>19</td>\n",
       "      <td>70</td>\n",
       "      <td>False</td>\n",
       "      <td>False</td>\n",
       "      <td>True</td>\n",
       "      <td>False</td>\n",
       "    </tr>\n",
       "    <tr>\n",
       "      <th>12</th>\n",
       "      <td>23</td>\n",
       "      <td>80</td>\n",
       "      <td>False</td>\n",
       "      <td>False</td>\n",
       "      <td>True</td>\n",
       "      <td>False</td>\n",
       "    </tr>\n",
       "    <tr>\n",
       "      <th>13</th>\n",
       "      <td>25</td>\n",
       "      <td>81</td>\n",
       "      <td>False</td>\n",
       "      <td>False</td>\n",
       "      <td>False</td>\n",
       "      <td>True</td>\n",
       "    </tr>\n",
       "    <tr>\n",
       "      <th>14</th>\n",
       "      <td>21</td>\n",
       "      <td>80</td>\n",
       "      <td>False</td>\n",
       "      <td>False</td>\n",
       "      <td>False</td>\n",
       "      <td>True</td>\n",
       "    </tr>\n",
       "  </tbody>\n",
       "</table>\n",
       "</div>"
      ],
      "text/plain": [
       "    temperatura  umidade  aparencia_nublado  aparencia_sol  ventando_sim  \\\n",
       "0            25       72              False           True          True   \n",
       "1            28       91              False           True          True   \n",
       "2            22       70              False           True         False   \n",
       "3            23       95              False           True         False   \n",
       "4            30       85              False           True         False   \n",
       "5            23       90               True          False          True   \n",
       "6            29       78               True          False         False   \n",
       "7            19       65               True          False          True   \n",
       "8            26       75               True          False         False   \n",
       "9            20       87               True          False          True   \n",
       "10           22       95              False          False         False   \n",
       "11           19       70              False          False          True   \n",
       "12           23       80              False          False          True   \n",
       "13           25       81              False          False         False   \n",
       "14           21       80              False          False         False   \n",
       "\n",
       "    viajar_va  \n",
       "0        True  \n",
       "1       False  \n",
       "2        True  \n",
       "3       False  \n",
       "4       False  \n",
       "5        True  \n",
       "6        True  \n",
       "7       False  \n",
       "8        True  \n",
       "9        True  \n",
       "10       True  \n",
       "11      False  \n",
       "12      False  \n",
       "13       True  \n",
       "14       True  "
      ]
     },
     "execution_count": 8,
     "metadata": {},
     "output_type": "execute_result"
    }
   ],
   "source": [
    "one_hot_dataset = pd.get_dummies(dataset,drop_first=True)\n",
    "one_hot_dataset"
   ]
  },
  {
   "cell_type": "markdown",
   "id": "87ea8bbc-d191-40d5-ae33-17da748e560e",
   "metadata": {},
   "source": [
    "<br>\n",
    "<i>X<i> representa exemplos de casos (dias) e seus atributos, mas removendo o atributo classe."
   ]
  },
  {
   "cell_type": "code",
   "execution_count": 9,
   "id": "c1b7c304-9f5c-4dfa-9938-695cda3b315f",
   "metadata": {},
   "outputs": [
    {
     "data": {
      "text/html": [
       "<div>\n",
       "<style scoped>\n",
       "    .dataframe tbody tr th:only-of-type {\n",
       "        vertical-align: middle;\n",
       "    }\n",
       "\n",
       "    .dataframe tbody tr th {\n",
       "        vertical-align: top;\n",
       "    }\n",
       "\n",
       "    .dataframe thead th {\n",
       "        text-align: right;\n",
       "    }\n",
       "</style>\n",
       "<table border=\"1\" class=\"dataframe\">\n",
       "  <thead>\n",
       "    <tr style=\"text-align: right;\">\n",
       "      <th></th>\n",
       "      <th>temperatura</th>\n",
       "      <th>umidade</th>\n",
       "      <th>aparencia_nublado</th>\n",
       "      <th>aparencia_sol</th>\n",
       "      <th>ventando_sim</th>\n",
       "    </tr>\n",
       "  </thead>\n",
       "  <tbody>\n",
       "    <tr>\n",
       "      <th>0</th>\n",
       "      <td>25</td>\n",
       "      <td>72</td>\n",
       "      <td>False</td>\n",
       "      <td>True</td>\n",
       "      <td>True</td>\n",
       "    </tr>\n",
       "    <tr>\n",
       "      <th>1</th>\n",
       "      <td>28</td>\n",
       "      <td>91</td>\n",
       "      <td>False</td>\n",
       "      <td>True</td>\n",
       "      <td>True</td>\n",
       "    </tr>\n",
       "    <tr>\n",
       "      <th>2</th>\n",
       "      <td>22</td>\n",
       "      <td>70</td>\n",
       "      <td>False</td>\n",
       "      <td>True</td>\n",
       "      <td>False</td>\n",
       "    </tr>\n",
       "    <tr>\n",
       "      <th>3</th>\n",
       "      <td>23</td>\n",
       "      <td>95</td>\n",
       "      <td>False</td>\n",
       "      <td>True</td>\n",
       "      <td>False</td>\n",
       "    </tr>\n",
       "    <tr>\n",
       "      <th>4</th>\n",
       "      <td>30</td>\n",
       "      <td>85</td>\n",
       "      <td>False</td>\n",
       "      <td>True</td>\n",
       "      <td>False</td>\n",
       "    </tr>\n",
       "    <tr>\n",
       "      <th>5</th>\n",
       "      <td>23</td>\n",
       "      <td>90</td>\n",
       "      <td>True</td>\n",
       "      <td>False</td>\n",
       "      <td>True</td>\n",
       "    </tr>\n",
       "    <tr>\n",
       "      <th>6</th>\n",
       "      <td>29</td>\n",
       "      <td>78</td>\n",
       "      <td>True</td>\n",
       "      <td>False</td>\n",
       "      <td>False</td>\n",
       "    </tr>\n",
       "    <tr>\n",
       "      <th>7</th>\n",
       "      <td>19</td>\n",
       "      <td>65</td>\n",
       "      <td>True</td>\n",
       "      <td>False</td>\n",
       "      <td>True</td>\n",
       "    </tr>\n",
       "    <tr>\n",
       "      <th>8</th>\n",
       "      <td>26</td>\n",
       "      <td>75</td>\n",
       "      <td>True</td>\n",
       "      <td>False</td>\n",
       "      <td>False</td>\n",
       "    </tr>\n",
       "    <tr>\n",
       "      <th>9</th>\n",
       "      <td>20</td>\n",
       "      <td>87</td>\n",
       "      <td>True</td>\n",
       "      <td>False</td>\n",
       "      <td>True</td>\n",
       "    </tr>\n",
       "    <tr>\n",
       "      <th>10</th>\n",
       "      <td>22</td>\n",
       "      <td>95</td>\n",
       "      <td>False</td>\n",
       "      <td>False</td>\n",
       "      <td>False</td>\n",
       "    </tr>\n",
       "    <tr>\n",
       "      <th>11</th>\n",
       "      <td>19</td>\n",
       "      <td>70</td>\n",
       "      <td>False</td>\n",
       "      <td>False</td>\n",
       "      <td>True</td>\n",
       "    </tr>\n",
       "    <tr>\n",
       "      <th>12</th>\n",
       "      <td>23</td>\n",
       "      <td>80</td>\n",
       "      <td>False</td>\n",
       "      <td>False</td>\n",
       "      <td>True</td>\n",
       "    </tr>\n",
       "    <tr>\n",
       "      <th>13</th>\n",
       "      <td>25</td>\n",
       "      <td>81</td>\n",
       "      <td>False</td>\n",
       "      <td>False</td>\n",
       "      <td>False</td>\n",
       "    </tr>\n",
       "    <tr>\n",
       "      <th>14</th>\n",
       "      <td>21</td>\n",
       "      <td>80</td>\n",
       "      <td>False</td>\n",
       "      <td>False</td>\n",
       "      <td>False</td>\n",
       "    </tr>\n",
       "  </tbody>\n",
       "</table>\n",
       "</div>"
      ],
      "text/plain": [
       "    temperatura  umidade  aparencia_nublado  aparencia_sol  ventando_sim\n",
       "0            25       72              False           True          True\n",
       "1            28       91              False           True          True\n",
       "2            22       70              False           True         False\n",
       "3            23       95              False           True         False\n",
       "4            30       85              False           True         False\n",
       "5            23       90               True          False          True\n",
       "6            29       78               True          False         False\n",
       "7            19       65               True          False          True\n",
       "8            26       75               True          False         False\n",
       "9            20       87               True          False          True\n",
       "10           22       95              False          False         False\n",
       "11           19       70              False          False          True\n",
       "12           23       80              False          False          True\n",
       "13           25       81              False          False         False\n",
       "14           21       80              False          False         False"
      ]
     },
     "execution_count": 9,
     "metadata": {},
     "output_type": "execute_result"
    }
   ],
   "source": [
    "X = one_hot_dataset[one_hot_dataset.columns[:5]] \n",
    "X"
   ]
  },
  {
   "cell_type": "markdown",
   "id": "deaad6a0-12ec-4fd9-87c2-b47807efd1a7",
   "metadata": {},
   "source": [
    "<br><i>y</i> representa a série dos valores classe de cada exemplo."
   ]
  },
  {
   "cell_type": "code",
   "execution_count": 10,
   "id": "931ff1a8-0502-4fa5-aafb-35a88fbd06d3",
   "metadata": {},
   "outputs": [
    {
     "data": {
      "text/plain": [
       "0      True\n",
       "1     False\n",
       "2      True\n",
       "3     False\n",
       "4     False\n",
       "5      True\n",
       "6      True\n",
       "7     False\n",
       "8      True\n",
       "9      True\n",
       "10     True\n",
       "11    False\n",
       "12    False\n",
       "13     True\n",
       "14     True\n",
       "Name: viajar_va, dtype: bool"
      ]
     },
     "execution_count": 10,
     "metadata": {},
     "output_type": "execute_result"
    }
   ],
   "source": [
    "y = one_hot_dataset['viajar_va'] \n",
    "y"
   ]
  },
  {
   "cell_type": "markdown",
   "id": "1973a4b7-f5d5-4be0-816c-7b97ab488b20",
   "metadata": {},
   "source": [
    "### Separação em Treino e Teste\n",
    "A função __[train_test_split](https://scikit-learn.org/stable/modules/generated/sklearn.model_selection.train_test_split.html)__ extrai um conjunto aleatório de 70% para treino and 30% para teste.  \n",
    "Uma questão interessante é utilizar o parâmetro *random_state* com um valor fixo inteiro, como por exemplo __[42](https://en.wikipedia.org/wiki/Phrases_from_The_Hitchhiker%27s_Guide_to_the_Galaxy#The_Answer_to_the_Ultimate_Question_of_Life,_the_Universe,_and_Everything_is_42)__. Desta forma, durante o desenvolvimento, a saída do split será sempre a mesma, de forma que é possível avaliar o pipe e seus resultados de forma contínua com os mesmos dados. Quando o pipe estiver em produção, trocamos o parâmetro *random_state* para *None*.   "
   ]
  },
  {
   "cell_type": "code",
   "execution_count": 11,
   "id": "6d98d6f1-0689-4221-9696-9adef85cac55",
   "metadata": {},
   "outputs": [],
   "source": [
    "# Importando biblioteca de separação de treino / teste\n",
    "from sklearn.model_selection import train_test_split \n",
    "\n",
    "X_train, X_test, y_train, y_test = train_test_split(X, y, test_size=0.3, shuffle=True, random_state=42) "
   ]
  },
  {
   "cell_type": "code",
   "execution_count": 12,
   "id": "badc3193-76cf-4bf8-87fe-c2f8ded4a366",
   "metadata": {},
   "outputs": [
    {
     "data": {
      "text/html": [
       "<div>\n",
       "<style scoped>\n",
       "    .dataframe tbody tr th:only-of-type {\n",
       "        vertical-align: middle;\n",
       "    }\n",
       "\n",
       "    .dataframe tbody tr th {\n",
       "        vertical-align: top;\n",
       "    }\n",
       "\n",
       "    .dataframe thead th {\n",
       "        text-align: right;\n",
       "    }\n",
       "</style>\n",
       "<table border=\"1\" class=\"dataframe\">\n",
       "  <thead>\n",
       "    <tr style=\"text-align: right;\">\n",
       "      <th></th>\n",
       "      <th>temperatura</th>\n",
       "      <th>umidade</th>\n",
       "      <th>aparencia_nublado</th>\n",
       "      <th>aparencia_sol</th>\n",
       "      <th>ventando_sim</th>\n",
       "    </tr>\n",
       "  </thead>\n",
       "  <tbody>\n",
       "    <tr>\n",
       "      <th>8</th>\n",
       "      <td>26</td>\n",
       "      <td>75</td>\n",
       "      <td>True</td>\n",
       "      <td>False</td>\n",
       "      <td>False</td>\n",
       "    </tr>\n",
       "    <tr>\n",
       "      <th>2</th>\n",
       "      <td>22</td>\n",
       "      <td>70</td>\n",
       "      <td>False</td>\n",
       "      <td>True</td>\n",
       "      <td>False</td>\n",
       "    </tr>\n",
       "    <tr>\n",
       "      <th>1</th>\n",
       "      <td>28</td>\n",
       "      <td>91</td>\n",
       "      <td>False</td>\n",
       "      <td>True</td>\n",
       "      <td>True</td>\n",
       "    </tr>\n",
       "    <tr>\n",
       "      <th>14</th>\n",
       "      <td>21</td>\n",
       "      <td>80</td>\n",
       "      <td>False</td>\n",
       "      <td>False</td>\n",
       "      <td>False</td>\n",
       "    </tr>\n",
       "    <tr>\n",
       "      <th>4</th>\n",
       "      <td>30</td>\n",
       "      <td>85</td>\n",
       "      <td>False</td>\n",
       "      <td>True</td>\n",
       "      <td>False</td>\n",
       "    </tr>\n",
       "    <tr>\n",
       "      <th>7</th>\n",
       "      <td>19</td>\n",
       "      <td>65</td>\n",
       "      <td>True</td>\n",
       "      <td>False</td>\n",
       "      <td>True</td>\n",
       "    </tr>\n",
       "    <tr>\n",
       "      <th>10</th>\n",
       "      <td>22</td>\n",
       "      <td>95</td>\n",
       "      <td>False</td>\n",
       "      <td>False</td>\n",
       "      <td>False</td>\n",
       "    </tr>\n",
       "    <tr>\n",
       "      <th>12</th>\n",
       "      <td>23</td>\n",
       "      <td>80</td>\n",
       "      <td>False</td>\n",
       "      <td>False</td>\n",
       "      <td>True</td>\n",
       "    </tr>\n",
       "    <tr>\n",
       "      <th>3</th>\n",
       "      <td>23</td>\n",
       "      <td>95</td>\n",
       "      <td>False</td>\n",
       "      <td>True</td>\n",
       "      <td>False</td>\n",
       "    </tr>\n",
       "    <tr>\n",
       "      <th>6</th>\n",
       "      <td>29</td>\n",
       "      <td>78</td>\n",
       "      <td>True</td>\n",
       "      <td>False</td>\n",
       "      <td>False</td>\n",
       "    </tr>\n",
       "  </tbody>\n",
       "</table>\n",
       "</div>"
      ],
      "text/plain": [
       "    temperatura  umidade  aparencia_nublado  aparencia_sol  ventando_sim\n",
       "8            26       75               True          False         False\n",
       "2            22       70              False           True         False\n",
       "1            28       91              False           True          True\n",
       "14           21       80              False          False         False\n",
       "4            30       85              False           True         False\n",
       "7            19       65               True          False          True\n",
       "10           22       95              False          False         False\n",
       "12           23       80              False          False          True\n",
       "3            23       95              False           True         False\n",
       "6            29       78               True          False         False"
      ]
     },
     "execution_count": 12,
     "metadata": {},
     "output_type": "execute_result"
    }
   ],
   "source": [
    "X_train"
   ]
  },
  {
   "cell_type": "markdown",
   "id": "4ada5b15-01bd-481b-af2c-8a9c6c5b1db2",
   "metadata": {},
   "source": [
    "## Processamento"
   ]
  },
  {
   "cell_type": "markdown",
   "id": "8bb8dd59-95a0-469e-be2b-15f73cf93da3",
   "metadata": {},
   "source": [
    "### Treinamento\n",
    "Este treinamento produz um modelo de classificador supervisionado baseado no algoritmo de Árvore de Decisão.  \n",
    "Um exemplo complementar da biblioteca scikit-learn pode ser encontrado em https://scikit-learn.org/stable/modules/tree.html#classification"
   ]
  },
  {
   "cell_type": "code",
   "execution_count": 13,
   "id": "b8f37b9e-569a-4d6d-86be-61acb31e3ecf",
   "metadata": {},
   "outputs": [],
   "source": [
    "from sklearn.tree import DecisionTreeClassifier # Importando classificador\n",
    "# Cria o objeto de um classificador de Árvores de Decisão\n",
    "clf = DecisionTreeClassifier(criterion='entropy',min_samples_leaf=1)\n",
    "# Executa o treinamento (fit)\n",
    "clf = clf.fit(X_train,y_train)"
   ]
  },
  {
   "cell_type": "markdown",
   "id": "f225b255-6856-4da2-9050-0f08d4ff9ac6",
   "metadata": {},
   "source": [
    "Como resultado do aprendizado, obtemos a seguinte árvore:"
   ]
  },
  {
   "cell_type": "code",
   "execution_count": 14,
   "id": "b109ca71-b419-477b-926f-2e1fda95e4ee",
   "metadata": {},
   "outputs": [
    {
     "data": {
      "text/plain": [
       "[Text(0.6, 0.875, 'ventando_sim <= 0.5\\nsamples = 100.0%\\nvalue = [0.5, 0.5]\\nclass = va'),\n",
       " Text(0.4, 0.625, 'umidade <= 82.5\\nsamples = 70.0%\\nvalue = [0.286, 0.714]\\nclass = nao_va'),\n",
       " Text(0.5, 0.75, 'True  '),\n",
       " Text(0.2, 0.375, 'samples = 40.0%\\nvalue = [0.0, 1.0]\\nclass = nao_va'),\n",
       " Text(0.6, 0.375, 'temperatura <= 22.5\\nsamples = 30.0%\\nvalue = [0.667, 0.333]\\nclass = va'),\n",
       " Text(0.4, 0.125, 'samples = 10.0%\\nvalue = [0.0, 1.0]\\nclass = nao_va'),\n",
       " Text(0.8, 0.125, 'samples = 20.0%\\nvalue = [1.0, 0.0]\\nclass = va'),\n",
       " Text(0.8, 0.625, 'samples = 30.0%\\nvalue = [1.0, 0.0]\\nclass = va'),\n",
       " Text(0.7, 0.75, '  False')]"
      ]
     },
     "execution_count": 14,
     "metadata": {},
     "output_type": "execute_result"
    }
   ],
   "source": [
    "from sklearn import tree\n",
    "tree.plot_tree(clf,rounded=True,feature_names=X.columns,fontsize=6,class_names=['va','nao_va'],proportion=True, impurity=False, filled=True, label='all')"
   ]
  },
  {
   "cell_type": "markdown",
   "id": "3ac88061-347a-49bc-af52-982e89fadd24",
   "metadata": {},
   "source": [
    "### Teste"
   ]
  },
  {
   "cell_type": "code",
   "execution_count": 15,
   "id": "7ebaea3e-12b4-4e9d-8b0b-709c153bdf65",
   "metadata": {},
   "outputs": [
    {
     "data": {
      "text/plain": [
       "(    temperatura  umidade  aparencia_nublado  aparencia_sol  ventando_sim\n",
       " 9            20       87               True          False          True\n",
       " 11           19       70              False          False          True\n",
       " 0            25       72              False           True          True\n",
       " 13           25       81              False          False         False\n",
       " 5            23       90               True          False          True,\n",
       " array([False, False, False,  True, False]))"
      ]
     },
     "execution_count": 15,
     "metadata": {},
     "output_type": "execute_result"
    }
   ],
   "source": [
    "# Faz a predição dos valores para teste\n",
    "y_pred = clf.predict(X_test)\n",
    "X_test,y_pred"
   ]
  },
  {
   "cell_type": "markdown",
   "id": "c3111b26-f413-419f-b10a-ccc53038e074",
   "metadata": {},
   "source": [
    "## Avaliação\n",
    "*** \n",
    "\n",
    "**tp** (verdadeiros positivos): casos cassificados parar uma classe corretamente<br>\n",
    "**fp** (falsos positivos): casos classificados para uma classe incorretamente<br>\n",
    "**tn** (verdadeiros negativos): casos classificados corretamente como falsos<br>\n",
    "**fn** (falsos negativos): casos considerados de outra classe mas deveriam ser da classe em questão<br>\n",
    "<br>\n",
    "**Suporte**: tp + fp, ou seja, o total de casos</br>\n",
    "**Precisão**: tp / (tp + fp), ou seja, proporção dos acertos em classificar exemplos positivos <br>\n",
    "**Recall**: tp / (tp + fn), ou seja, proporção de acertos entre todas as classes<br>\n",
    "**f1-score**: média harmônica entre a Precisão e o Recall<br>\n",
    "**Acurácia**: soma do tp de todas as classes dividido pelo número de instâncias do dataset de teste (resulta em uma percentagem).<br>\n",
    "\n",
    "Uma ótima imagem ilustrativa sobre estas métricas pode ser encontrada na __[Wikipédia](https://pt.wikipedia.org/wiki/Precis%C3%A3o_e_revoca%C3%A7%C3%A3o#/media/Ficheiro:Precis%C3%A3o_e_revoca%C3%A7%C3%A3o.png)__\n"
   ]
  },
  {
   "cell_type": "code",
   "execution_count": 16,
   "id": "deacafd1-b4fa-4c3c-b4c5-a064754c280d",
   "metadata": {},
   "outputs": [
    {
     "name": "stdout",
     "output_type": "stream",
     "text": [
      "Acurácia: 0.4\n"
     ]
    }
   ],
   "source": [
    "from sklearn import metrics #Importando módulo de métricas para avaliação\n",
    "# Acurácia do modelo, o quanto o classificador está correto?\n",
    "print(\"Acurácia:\",metrics.accuracy_score(y_test, y_pred))"
   ]
  },
  {
   "cell_type": "code",
   "execution_count": 17,
   "id": "85746286-e663-40db-9a58-1b7b24ab7b98",
   "metadata": {},
   "outputs": [
    {
     "name": "stdout",
     "output_type": "stream",
     "text": [
      "              precision    recall  f1-score   support\n",
      "\n",
      "          va       0.25      1.00      0.40         1\n",
      "      nao_va       1.00      0.25      0.40         4\n",
      "\n",
      "    accuracy                           0.40         5\n",
      "   macro avg       0.62      0.62      0.40         5\n",
      "weighted avg       0.85      0.40      0.40         5\n",
      "\n"
     ]
    }
   ],
   "source": [
    "from sklearn.metrics import ConfusionMatrixDisplay, classification_report\n",
    "\n",
    "print(classification_report(y_test, y_pred, target_names=['va','nao_va']))                                                                              "
   ]
  },
  {
   "cell_type": "code",
   "execution_count": 18,
   "id": "ce21a8cd-0a39-4a56-a198-d6d818c3fe40",
   "metadata": {},
   "outputs": [
    {
     "data": {
      "image/png": "[encoded data removed]",
      "text/plain": [
       "<Figure size 640x480 with 1 Axes>"
      ]
     },
     "metadata": {},
     "output_type": "display_data"
    },
    {
     "data": {
      "image/png": "[encoded data removed]",
      "text/plain": [
       "<Figure size 640x480 with 2 Axes>"
      ]
     },
     "metadata": {},
     "output_type": "display_data"
    }
   ],
   "source": [
    "ConfusionMatrixDisplay.from_estimator(\n",
    "    clf, X_test, y_test, display_labels=['va','nao_va'], xticks_rotation=\"vertical\"\n",
    ")\n",
    "plt.tight_layout()\n",
    "plt.show()"
   ]
  },
  {
   "cell_type": "code",
   "execution_count": null,
   "id": "0917a04d",
   "metadata": {},
   "outputs": [],
   "source": []
  }
 ],
 "metadata": {
  "kernelspec": {
   "display_name": "Python 3",
   "language": "python",
   "name": "python3"
  },
  "language_info": {
   "codemirror_mode": {
    "name": "ipython",
    "version": 3
   },
   "file_extension": ".py",
   "mimetype": "text/x-python",
   "name": "python",
   "nbconvert_exporter": "python",
   "pygments_lexer": "ipython3",
   "version": "3.12.1"
  }
 },
 "nbformat": 4,
 "nbformat_minor": 5
}
